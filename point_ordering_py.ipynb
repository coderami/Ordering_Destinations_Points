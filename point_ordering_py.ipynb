{
  "nbformat": 4,
  "nbformat_minor": 0,
  "metadata": {
    "colab": {
      "provenance": [],
      "mount_file_id": "1tj714dQDp1F3fIjD-UFI-C67c-fiInZe",
      "authorship_tag": "ABX9TyPC9TwBas4sQy8yHGj3snxA",
      "include_colab_link": true
    },
    "kernelspec": {
      "name": "python3",
      "display_name": "Python 3"
    },
    "language_info": {
      "name": "python"
    }
  },
  "cells": [
    {
      "cell_type": "markdown",
      "metadata": {
        "id": "view-in-github",
        "colab_type": "text"
      },
      "source": [
        "<a href=\"https://colab.research.google.com/github/coderami/Ordering_Destinations_Points/blob/main/point_ordering_py.ipynb\" target=\"_parent\"><img src=\"https://colab.research.google.com/assets/colab-badge.svg\" alt=\"Open In Colab\"/></a>"
      ]
    },
    {
      "cell_type": "code",
      "source": [
        "!pip install getkey"
      ],
      "metadata": {
        "colab": {
          "base_uri": "https://localhost:8080/"
        },
        "id": "ZbFxqzbuKM0U",
        "outputId": "11ef0042-0ebb-4338-a491-98f79b9c23c2"
      },
      "execution_count": null,
      "outputs": [
        {
          "output_type": "stream",
          "name": "stdout",
          "text": [
            "Requirement already satisfied: getkey in /usr/local/lib/python3.10/dist-packages (0.6.5)\n"
          ]
        }
      ]
    },
    {
      "cell_type": "code",
      "source": [
        "from geopy.geocoders import Nominatim\n",
        "from geopy import distance"
      ],
      "metadata": {
        "id": "QBsBq5qYD8q4"
      },
      "execution_count": null,
      "outputs": []
    },
    {
      "cell_type": "code",
      "source": [
        "def dictSorter(dict):\n",
        "  import numpy as np\n",
        "  from collections import OrderedDict\n",
        "\n",
        "  keys = list(dict.keys())\n",
        "  values = list(dict.values())\n",
        "\n",
        "  sorted_value_index = np.argsort(values)\n",
        "  # print(sorted_value_index)\n",
        "  sorted_dict = {keys[i]: values[i] for i in sorted_value_index}\n",
        "  return sorted_dict"
      ],
      "metadata": {
        "id": "HEpYt8loCuIX"
      },
      "execution_count": null,
      "outputs": []
    },
    {
      "cell_type": "code",
      "source": [
        "def twoDictsSubtractor(dict1, dict2):\n",
        "  cun = 1\n",
        "  global dic_def\n",
        "  dic_def = {}\n",
        "\n",
        "  base = list(dict1.values())[0]\n",
        "\n",
        "  for item in dict2:\n",
        "    # print(item)\n",
        "    # print(dict2[item])\n",
        "    member = \"mem_{}\".format(cun)\n",
        "\n",
        "    dic_def[member] = abs(dict2[item] - base)\n",
        "    # print(dic_def)\n",
        "    cun += 1\n",
        "\n",
        "  print(dic_def)"
      ],
      "metadata": {
        "id": "F3sySg5KCwLc"
      },
      "execution_count": null,
      "outputs": []
    },
    {
      "cell_type": "code",
      "source": [
        "currentLocation = input(\"Enter your current location: \")\n",
        "geolocator = Nominatim(user_agent=\"point_ordering.py\")\n",
        "# departureLocation = geolocator.geocode(currentLocation)\n",
        "print(departureLocation.latitude, departureLocation.longitude)"
      ],
      "metadata": {
        "colab": {
          "base_uri": "https://localhost:8080/"
        },
        "id": "gB1jTJD03rCW",
        "outputId": "7e0f1c92-90f2-44a8-c28c-b43638093fc7"
      },
      "execution_count": null,
      "outputs": [
        {
          "output_type": "stream",
          "name": "stdout",
          "text": [
            "Enter your current location: 5155 Sheppard Ave East\n",
            "43.7664831 -79.3882352\n"
          ]
        }
      ]
    },
    {
      "cell_type": "code",
      "source": [
        "destinationDir = {}\n",
        "counter = 1\n",
        "# while destinationDir[dirValue] != None:\n",
        "while True:\n",
        "  key = input(\"Enter destination location: \")\n",
        "  if key == \" \":\n",
        "    break\n",
        "\n",
        "  dirValue = \"point_{}\".format(counter)\n",
        "  destinationDir[dirValue] = key\n",
        "  counter += 1\n"
      ],
      "metadata": {
        "colab": {
          "base_uri": "https://localhost:8080/"
        },
        "id": "yQo0O3k34SDX",
        "outputId": "30abc89d-5ada-4594-8433-48f6c16254ee"
      },
      "execution_count": null,
      "outputs": [
        {
          "name": "stdout",
          "output_type": "stream",
          "text": [
            "Enter destination location: 1 Bloor St E\n",
            "Enter destination location: 300 Bloor St E\n",
            "Enter destination location: 1696 Bayview\n",
            "Enter destination location: 50 Hargrave Lane\n",
            "Enter destination location:  \n"
          ]
        }
      ]
    },
    {
      "cell_type": "code",
      "source": [
        "destinationDir"
      ],
      "metadata": {
        "colab": {
          "base_uri": "https://localhost:8080/"
        },
        "id": "lBifHvYP5f4Y",
        "outputId": "06dc8e57-c5a7-42d9-c472-aea0b5640934"
      },
      "execution_count": null,
      "outputs": [
        {
          "output_type": "execute_result",
          "data": {
            "text/plain": [
              "{'point_1': '1 Bloor St E',\n",
              " 'point_2': '300 Bloor St E',\n",
              " 'point_3': '1696 Bayview',\n",
              " 'point_4': '50 Hargrave Lane'}"
            ]
          },
          "metadata": {},
          "execution_count": 91
        }
      ]
    },
    {
      "cell_type": "code",
      "source": [
        "pointList = {}\n",
        "counter2 = 1\n",
        "\n",
        "for key in destinationDir:\n",
        "  value_1 = {}\n",
        "  # print(key, destinationDir[key])\n",
        "  geolocator = Nominatim(user_agent=\"point_ordering.py\")\n",
        "  location = geolocator.geocode(destinationDir[key])\n",
        "  print(location.latitude, location.longitude)\n",
        "  # print(location.latitude)\n",
        "  value_1[destinationDir[key]] = location.latitude, location.longitude\n",
        "  # print(value_1)\n",
        "  pointList[key] = value_1\n",
        "  counter2 += 1\n",
        "\n",
        "# print(pointList)"
      ],
      "metadata": {
        "colab": {
          "base_uri": "https://localhost:8080/"
        },
        "id": "nujVbvYVIGc2",
        "outputId": "da9467ee-31bd-4244-acf6-29c2885cd2b1"
      },
      "execution_count": null,
      "outputs": [
        {
          "output_type": "stream",
          "name": "stdout",
          "text": [
            "43.66982485 -79.38610666444188\n",
            "43.672169350000004 -79.37988930525304\n",
            "43.7088373 -79.3764984\n",
            "43.72235307692308 -79.37938197435898\n"
          ]
        }
      ]
    },
    {
      "cell_type": "code",
      "source": [
        "# print(location.latitude, location.longitude)\n",
        "# point_0 = {}\n",
        "# point_0[currentLocation] = location.latitude, location.longitude\n",
        "# print(point_0)\n",
        "# pointList[\"point_0\"] = point_0\n",
        "print(pointList)"
      ],
      "metadata": {
        "colab": {
          "base_uri": "https://localhost:8080/"
        },
        "id": "ojKI_60add_n",
        "outputId": "ba68cfcf-a3eb-467f-db25-c3af223329a4"
      },
      "execution_count": null,
      "outputs": [
        {
          "output_type": "stream",
          "name": "stdout",
          "text": [
            "{'point_1': {'1 Bloor St E': (43.66982485, -79.38610666444188)}, 'point_2': {'300 Bloor St E': (43.672169350000004, -79.37988930525304)}, 'point_3': {'1696 Bayview': (43.7088373, -79.3764984)}, 'point_4': {'50 Hargrave Lane': (43.72235307692308, -79.37938197435898)}}\n"
          ]
        }
      ]
    },
    {
      "cell_type": "code",
      "source": [
        "# curLoc = (currentLocation.latitude, currentLocation.longitude)\n",
        "# departureLocation = geolocator.geocode(currentLocation.latitude, currentLocation.longitude)\n",
        "\n",
        "print(currentLocation)\n",
        "# print(departureLocation, \"\\n\")\n",
        "# print(len(pointList))\n",
        "\n",
        "for key in pointList:\n",
        "  # print(key, pointList[key])\n",
        "  for secKey in pointList[key]:\n",
        "    print(secKey, pointList[key][secKey])\n",
        "    print(distance.distance(curLoc, pointList[key][secKey]), \"\\n\")\n",
        "\n"
      ],
      "metadata": {
        "colab": {
          "base_uri": "https://localhost:8080/"
        },
        "id": "2YwOKLxperLK",
        "outputId": "f47b8d55-a96f-4a9e-8d9a-31f0794988b0"
      },
      "execution_count": null,
      "outputs": [
        {
          "output_type": "stream",
          "name": "stdout",
          "text": [
            "5155 Sheppard Ave East\n",
            "1 Bloor St E (43.66982485, -79.38610666444188)\n",
            "5.861340665929249 km \n",
            "\n",
            "300 Bloor St E (43.672169350000004, -79.37988930525304)\n",
            "5.575879845324389 km \n",
            "\n",
            "1696 Bayview (43.7088373, -79.3764984)\n",
            "1.519567106756747 km \n",
            "\n",
            "50 Hargrave Lane (43.72235307692308, -79.37938197435898)\n",
            "0.0 km \n",
            "\n"
          ]
        }
      ]
    },
    {
      "cell_type": "code",
      "source": [
        "print(distance.distance(curLoc, pointList['point_1'][\"1696 bayview\"]))"
      ],
      "metadata": {
        "colab": {
          "base_uri": "https://localhost:8080/",
          "height": 148
        },
        "id": "tsP6QHZ738O2",
        "outputId": "11e9bbec-fd20-4861-bfbc-4cb16a38a5d6"
      },
      "execution_count": null,
      "outputs": [
        {
          "output_type": "error",
          "ename": "NameError",
          "evalue": "name 'distance' is not defined",
          "traceback": [
            "\u001b[0;31m---------------------------------------------------------------------------\u001b[0m",
            "\u001b[0;31mNameError\u001b[0m                                 Traceback (most recent call last)",
            "\u001b[0;32m<ipython-input-44-8e9f161c9cfd>\u001b[0m in \u001b[0;36m<cell line: 1>\u001b[0;34m()\u001b[0m\n\u001b[0;32m----> 1\u001b[0;31m \u001b[0mprint\u001b[0m\u001b[0;34m(\u001b[0m\u001b[0mdistance\u001b[0m\u001b[0;34m.\u001b[0m\u001b[0mdistance\u001b[0m\u001b[0;34m(\u001b[0m\u001b[0mcurLoc\u001b[0m\u001b[0;34m,\u001b[0m \u001b[0mpointList\u001b[0m\u001b[0;34m[\u001b[0m\u001b[0;34m'point_1'\u001b[0m\u001b[0;34m]\u001b[0m\u001b[0;34m[\u001b[0m\u001b[0;34m\"1696 bayview\"\u001b[0m\u001b[0;34m]\u001b[0m\u001b[0;34m)\u001b[0m\u001b[0;34m)\u001b[0m\u001b[0;34m\u001b[0m\u001b[0;34m\u001b[0m\u001b[0m\n\u001b[0m",
            "\u001b[0;31mNameError\u001b[0m: name 'distance' is not defined"
          ]
        }
      ]
    },
    {
      "cell_type": "code",
      "source": [],
      "metadata": {
        "id": "j4gxWGpi7_A9"
      },
      "execution_count": null,
      "outputs": []
    }
  ]
}